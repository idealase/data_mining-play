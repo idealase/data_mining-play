{
 "cells": [
  {
   "cell_type": "code",
   "execution_count": 1,
   "metadata": {
    "scrolled": true
   },
   "outputs": [
    {
     "data": {
      "text/plain": [
       "[RelationRecord(items=frozenset({'beer'}), support=0.6, ordered_statistics=[OrderedStatistic(items_base=frozenset(), items_add=frozenset({'beer'}), confidence=0.6, lift=1.0)]),\n",
       " RelationRecord(items=frozenset({'cheese'}), support=0.4, ordered_statistics=[OrderedStatistic(items_base=frozenset(), items_add=frozenset({'cheese'}), confidence=0.4, lift=1.0)]),\n",
       " RelationRecord(items=frozenset({'nuts'}), support=0.4, ordered_statistics=[OrderedStatistic(items_base=frozenset(), items_add=frozenset({'nuts'}), confidence=0.4, lift=1.0)]),\n",
       " RelationRecord(items=frozenset({'salami'}), support=0.6, ordered_statistics=[OrderedStatistic(items_base=frozenset(), items_add=frozenset({'salami'}), confidence=0.6, lift=1.0)]),\n",
       " RelationRecord(items=frozenset({'beer', 'cheese'}), support=0.2, ordered_statistics=[OrderedStatistic(items_base=frozenset({'beer'}), items_add=frozenset({'cheese'}), confidence=0.33333333333333337, lift=0.8333333333333334), OrderedStatistic(items_base=frozenset({'cheese'}), items_add=frozenset({'beer'}), confidence=0.5, lift=0.8333333333333334)]),\n",
       " RelationRecord(items=frozenset({'nuts', 'beer'}), support=0.2, ordered_statistics=[OrderedStatistic(items_base=frozenset({'beer'}), items_add=frozenset({'nuts'}), confidence=0.33333333333333337, lift=0.8333333333333334), OrderedStatistic(items_base=frozenset({'nuts'}), items_add=frozenset({'beer'}), confidence=0.5, lift=0.8333333333333334)]),\n",
       " RelationRecord(items=frozenset({'salami', 'beer'}), support=0.2, ordered_statistics=[OrderedStatistic(items_base=frozenset({'beer'}), items_add=frozenset({'salami'}), confidence=0.33333333333333337, lift=0.5555555555555557), OrderedStatistic(items_base=frozenset({'salami'}), items_add=frozenset({'beer'}), confidence=0.33333333333333337, lift=0.5555555555555557)]),\n",
       " RelationRecord(items=frozenset({'salami', 'cheese'}), support=0.2, ordered_statistics=[OrderedStatistic(items_base=frozenset({'cheese'}), items_add=frozenset({'salami'}), confidence=0.5, lift=0.8333333333333334), OrderedStatistic(items_base=frozenset({'salami'}), items_add=frozenset({'cheese'}), confidence=0.33333333333333337, lift=0.8333333333333334)]),\n",
       " RelationRecord(items=frozenset({'salami', 'nuts'}), support=0.2, ordered_statistics=[OrderedStatistic(items_base=frozenset({'nuts'}), items_add=frozenset({'salami'}), confidence=0.5, lift=0.8333333333333334), OrderedStatistic(items_base=frozenset({'salami'}), items_add=frozenset({'nuts'}), confidence=0.33333333333333337, lift=0.8333333333333334)])]"
      ]
     },
     "execution_count": 1,
     "metadata": {},
     "output_type": "execute_result"
    }
   ],
   "source": [
    "# example from apyori.py README\n",
    "\n",
    "from apyori import apriori\n",
    "\n",
    "transactions = [\n",
    "    ['beer', 'nuts'],\n",
    "    ['beer', 'cheese'],\n",
    "    ['beer', 'salami'],\n",
    "    ['cheese', 'salami'],\n",
    "    ['nuts', 'salami']\n",
    "]\n",
    "results = list(apriori(transactions))\n",
    "results"
   ]
  },
  {
   "cell_type": "code",
   "execution_count": null,
   "metadata": {},
   "outputs": [],
   "source": [
    "import numpy as np\n",
    "import matplotlib.pyplot as plt\n",
    "import pandas as pd"
   ]
  },
  {
   "cell_type": "code",
   "execution_count": null,
   "metadata": {},
   "outputs": [],
   "source": []
  }
 ],
 "metadata": {
  "kernelspec": {
   "display_name": "Python 3",
   "language": "python",
   "name": "python3"
  },
  "language_info": {
   "codemirror_mode": {
    "name": "ipython",
    "version": 3
   },
   "file_extension": ".py",
   "mimetype": "text/x-python",
   "name": "python",
   "nbconvert_exporter": "python",
   "pygments_lexer": "ipython3",
   "version": "3.7.0"
  }
 },
 "nbformat": 4,
 "nbformat_minor": 2
}
