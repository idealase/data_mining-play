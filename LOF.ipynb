{
 "cells": [
  {
   "cell_type": "markdown",
   "metadata": {
    "slideshow": {
     "slide_type": "slide"
    }
   },
   "source": [
    "# Outlier Analysis\n",
    "\n",
    "- Extreme Value Anaylsis\n",
    "- Clustering models\n",
    "- Distance-based models\n",
    "- Density-based models\n",
    "- Probabilistic models\n",
    "- Information theoretic models"
   ]
  },
  {
   "cell_type": "markdown",
   "metadata": {
    "slideshow": {
     "slide_type": "slide"
    }
   },
   "source": [
    "## Receiver Operating Characteristic (ROC)\n",
    "\n",
    "- Plot of detection probability (TPR) vs false alarm rate (FPR)\n",
    "- from (0,0) to (1,1)\n",
    "\n",
    "Quantifying desirable performance\n",
    "    Area under the curve (AUC): as close to 1 as possible\n",
    "    Equal error rate (EER): miss detection rate = false alarm rate\n",
    "    \n",
    "Practical interpretations:\n",
    "    Unavoidable trade-off between false alarm rate and detection probability\n",
    "    Operating point: depends on the specific application\n",
    "    "
   ]
  },
  {
   "cell_type": "markdown",
   "metadata": {
    "slideshow": {
     "slide_type": "slide"
    }
   },
   "source": [
    "# Extreme Value Analysis\n",
    "\n",
    "Basic statistics of attributes' values\n",
    "Outliers: correspond to the statistical tails of probability distributions\n",
    "    Easily seen with one-d distributions\n",
    "    Can be extended to multi-d distributions\n",
    "What are the tails?\n",
    "    Regions of very large/small values\n",
    "    Low density/less likely to be observed\n",
    "    Usually correspond to density being less than a threshold\n",
    "        f(x) </= theta\n",
    "        Note: uni-modal vs multi-modal distributions\n",
    "        \n",
    "#### How to perform EVA?\n",
    "- Obtain data samples\n",
    "- Select suitable statistical distributions eg Gaussian\n",
    "- Find distribution parameters that explain the data well\n",
    "- Compute suitable test statistic\n",
    "- Find threshold via look-up tables\n",
    "\n",
    "    - Example: w/ Gaussian distribution N(u,o^2)\n",
    "        - Obtain data samples x1, ... , xn\n",
    "        - Estimate u with sample mean u^\n",
    "        - Estimate o with sample sd o^\n",
    "        - Compute Z-statistic for a given value xi\n",
    "        \n",
    "            - zi = (xi - u^) / o^\n",
    "        - Use t statistical distribution to look up the threshold value or detect outliers when abs(zi) greater than/equal to 3 (o.o1% tail)"
   ]
  },
  {
   "cell_type": "markdown",
   "metadata": {
    "slideshow": {
     "slide_type": "slide"
    }
   },
   "source": [
    "# Histogram-Based Techniques\n",
    "\n",
    "Simple and easy to construct for univariate data: no need to fit a distribution model\n",
    "\n",
    "Frequently in many application domains\n",
    "\n",
    "How:\n",
    "    - Data discretised into bins\n",
    "    - Low frequency bins --> outliers\n",
    "    - Score = bin count-1\n",
    "Challenges/limitations\n",
    "    - Optimal bin width?\n",
    "    - Lack of global perspective\n",
    "    - Less effective with large dimensions\n",
    "    \n",
    "How to extend to multivariate cases?\n",
    "    - Each attribute discretised into p equal-width bins\n",
    "    - Data space divided into grid regions\n",
    "    - Grid regions ~ histogram bins"
   ]
  },
  {
   "cell_type": "markdown",
   "metadata": {
    "slideshow": {
     "slide_type": "slide"
    }
   },
   "source": [
    "# Local Outlier Factor for Anomaly Detection"
   ]
  },
  {
   "cell_type": "markdown",
   "metadata": {
    "slideshow": {
     "slide_type": "slide"
    }
   },
   "source": [
    "LOF detects outliers in the data set that may not be considered outliers elsewhere in the data set\n",
    "It does so by employing a local approach...\n",
    "\n",
    "    eg. a point somewhat close to a very dense cluster may be considered a local outlier, whilst that same distance may be considered acceptable near a more sparse cluster.\n",
    "    \n",
    "Only geometrically intuitive in low-dimensional vector spaces...\n",
    "\n",
    "    but algorithm can be applied wherever dissimilarity function can be applied.\n",
    "\n",
    "### Advantages\n",
    "Performs strongly in both:\n",
    "\n",
    "    network intrusion detection'\n",
    "    pre-processed classification benchmarks\n",
    "    \n",
    "Easily generalisable and broadly applicable:\n",
    "\n",
    "    Authorship networks\n",
    "    Geographic data\n",
    "    Video streams\n",
    "    \n",
    "### Disadvantages\n",
    "Results are quotient values\n",
    "\n",
    "    1 or less indicates a clear inlier, though there is no clear rule for outliers\n",
    "    The locality of the method and different parameterisation approaches mean a 2 could be considered an inlier in sparse settings\n",
    "    \n",
    "To address disadvantages there are a number of extensions.\n",
    "    \n",
    "#### LOF Extensions\n",
    "Feature Bagging for Outlier Detection\n",
    "\n",
    "    improved detection on high-dimensional data\n",
    "    runs LOF through different projections\n",
    "    first ensemble approach for outlier detection\n",
    "    \n",
    "Local Outlier Probability\n",
    "\n",
    "    Values scaled (0,1)\n",
    "    Uses inexpensive statistics, becoming less sensitive to parameter-k\n",
    "    \n",
    "Interpreting and Unifying Outlier Scores\n",
    "\n",
    "On Evaluation of Outlier Rankings and Scores"
   ]
  },
  {
   "cell_type": "code",
   "execution_count": 1,
   "metadata": {
    "slideshow": {
     "slide_type": "slide"
    }
   },
   "outputs": [],
   "source": [
    "import random\n",
    "import numpy as np\n",
    "import matplotlib.pyplot as plt\n",
    "from matplotlib.ticker import NullFormatter\n",
    "\n",
    "from scipy.spatial import distance\n",
    "from scipy.io import arff\n",
    "\n",
    "from sklearn.neighbors import LocalOutlierFactor"
   ]
  },
  {
   "cell_type": "markdown",
   "metadata": {
    "slideshow": {
     "slide_type": "slide"
    }
   },
   "source": [
    "Let's make some random numbers\n",
    "\n",
    "This populates a list - RandPoints - with random (x,y) co-ords, using two separate range parameters.\n",
    "It also adds the output to lists of all the x's and y's, xlist and ylist.\n",
    "\n",
    "#### Set QTY below\n",
    "\n",
    "### Hawkins Outlier\n",
    "\n",
    "- An outlier is an observation that deviates so much from other observations as to arouse suspicion that it was generated by a different mechanism.\n",
    "\n",
    "Consider this definition and maybe add something to the generator to produce one or two outliers from a different mechanism"
   ]
  },
  {
   "cell_type": "code",
   "execution_count": 2,
   "metadata": {
    "slideshow": {
     "slide_type": "slide"
    }
   },
   "outputs": [
    {
     "name": "stdout",
     "output_type": "stream",
     "text": [
      "7502\n"
     ]
    }
   ],
   "source": [
    "random.seed(a=123)\n",
    "np.random.seed([123])\n",
    "\n",
    "# make empty lists and choose a quantity\n",
    "# NB the number of data points generated is qty*3 + 1\n",
    "RandPoints=[]\n",
    "xlist=[]\n",
    "ylist=[]\n",
    "qty=2500    # qty of inliers\n",
    "outprop = 0.001    # proportion of outliers\n",
    "outqty=int(qty * outprop)   # qty of outliers\n",
    "\n",
    "# lists for outliers for later plotting\n",
    "xoutlist=[]\n",
    "youtlist=[]\n",
    "\n",
    "# set ranges for your two different clusters\n",
    "xRange1 = (-150, 100)\n",
    "yRange1 = (-150, 75)\n",
    "xRange2 = (-50, 50)\n",
    "yRange2 = (-100, 100)\n",
    "\n",
    "# set mean and sd for Gauss dist\n",
    "mu = -20\n",
    "xsig = 50\n",
    "ysig = 100\n",
    "mu2= 25\n",
    "xsig2= 100\n",
    "ysig2= 150\n",
    "# set outlier sigma multiplier and mean adj\n",
    "osigmult=3\n",
    "muadj=1\n",
    "\n",
    "def addcoords():\n",
    "    \"\"\" Adds x and y coords to respective lists\n",
    "    for each and a list of tuples of full coords\n",
    "    to RandPoints\n",
    "    \n",
    "    RandPoints later changed to numpy array RandArray\"\"\"\n",
    "    xlist.append(x)\n",
    "    ylist.append(y)\n",
    "    RandPoints.append((x,y))\n",
    "\n",
    "i=0\n",
    "bonusclusters=False    \n",
    "# produce data points in three separate clusters\n",
    "while i<qty:\n",
    "    # adding a Gaussian dist cluster3\n",
    "    x = random.gauss(mu, xsig)\n",
    "    y = random.gauss(mu, ysig)\n",
    "    addcoords()\n",
    "    # adding a Gaussian dist cluster4\n",
    "    x = random.gauss(mu2, xsig2)\n",
    "    y = random.gauss(mu2, ysig2)\n",
    "    addcoords()\n",
    "    # adding a Laplace dist cluster 5\n",
    "    x = np.random.laplace(loc=10, scale=2)\n",
    "    y = np.random.laplace(loc=10, scale=2)\n",
    "    addcoords()\n",
    "    while bonusclusters:\n",
    "        # gen cluster1\n",
    "        x = random.randrange(*xRange1)\n",
    "        y = random.randrange(*yRange1)\n",
    "        addcoords()\n",
    "        # gen cluster2\n",
    "        x = random.randrange(*xRange2)\n",
    "        y = random.randrange(*yRange2)\n",
    "        addcoords()\n",
    "    i += 1\n",
    "\n",
    "# adding an outlier to Gauss dist cluster3\n",
    "while i==qty:\n",
    "    for i in range(0,outqty):\n",
    "        xo = random.gauss(mu+muadj, xsig*osigmult)\n",
    "        yo = random.gauss(mu-muadj, ysig*osigmult)\n",
    "        xlist.append(xo)\n",
    "        ylist.append(yo)\n",
    "        xoutlist.append(xo)\n",
    "        youtlist.append(yo)\n",
    "        RandPoints.append((xo,yo))\n",
    "\n",
    "# shuffling it for the sake of it\n",
    "random.shuffle(RandPoints)\n",
    "\n",
    "# convert our RandList into a numpy array\n",
    "RandArray = np.array(RandPoints)\n",
    "\n",
    "print(len(RandPoints))"
   ]
  },
  {
   "cell_type": "markdown",
   "metadata": {
    "slideshow": {
     "slide_type": "skip"
    }
   },
   "source": [
    "Now we will plot our points on a scatter-hist plot"
   ]
  },
  {
   "cell_type": "code",
   "execution_count": 3,
   "metadata": {
    "slideshow": {
     "slide_type": "slide"
    }
   },
   "outputs": [
    {
     "data": {
      "image/png": "[encoded data removed]",
      "text/plain": [
       "<Figure size 1008x1008 with 3 Axes>"
      ]
     },
     "metadata": {
      "needs_background": "light"
     },
     "output_type": "display_data"
    }
   ],
   "source": [
    "# definitions for the axes\n",
    "left, width = 0.1, 0.65\n",
    "bottom, height = 0.1, 0.65\n",
    "bottom_h = left_h = left + width + 0.02\n",
    "\n",
    "rect_scatter = [left, bottom, width, height]\n",
    "rect_histx = [left, bottom_h, width, 0.2]\n",
    "rect_histy = [left_h, bottom, 0.2, height]\n",
    "\n",
    "# use null formatter to kill labels\n",
    "nullfmt = NullFormatter()\n",
    "\n",
    "plt.figure(1, figsize=(14,14))\n",
    "\n",
    "axScatter = plt.axes(rect_scatter)\n",
    "axHistx = plt.axes(rect_histx)\n",
    "axHisty = plt.axes(rect_histy)\n",
    "\n",
    "# no labels\n",
    "axHistx.xaxis.set_major_formatter(nullfmt)\n",
    "axHisty.yaxis.set_major_formatter(nullfmt)\n",
    "\n",
    "# the scatter plot\n",
    "axScatter.scatter(xlist, ylist, marker=\"2\", color=\"red\")\n",
    "\n",
    "binwidth = 1\n",
    "xymax = max(np.max(np.abs(xlist)), np.max(np.abs(ylist)))\n",
    "lim = (int(xymax/binwidth) + 1) * binwidth\n",
    "\n",
    "axScatter.set_xlim((-lim, lim))\n",
    "axScatter.set_ylim((-lim, lim))\n",
    "\n",
    "bins = np.arange(-lim, lim + binwidth, binwidth)\n",
    "axHistx.hist(xlist, bins=bins, color='coral')\n",
    "axHisty.hist(ylist, bins=bins, orientation='horizontal', color='coral')\n",
    "\n",
    "axHistx.set_xlim(axScatter.get_xlim())\n",
    "axHisty.set_ylim(axScatter.get_ylim())\n",
    "\n",
    "\n",
    "plt.show()"
   ]
  },
  {
   "cell_type": "markdown",
   "metadata": {
    "slideshow": {
     "slide_type": "skip"
    }
   },
   "source": [
    "# Using sklearn\n",
    "\n",
    "The following is from the scikit learn documentation for outlier detection\n",
    "- https://scikit-learn.org/stable/auto_examples/neighbors/plot_lof_outlier_detection.html\n",
    "\n",
    "They create their own data in a different way, and because they force-generate outliers, have included a ground truth object to use to test their predictions."
   ]
  },
  {
   "cell_type": "code",
   "execution_count": null,
   "metadata": {
    "slideshow": {
     "slide_type": "skip"
    }
   },
   "outputs": [],
   "source": [
    "# Generate train data\n",
    "X_inliers = 0.3 * np.random.randn(100, 2)\n",
    "X_inliers = np.r_[X_inliers + 2, X_inliers - 2]\n",
    "\n",
    "# Generate some outliers\n",
    "X_outliers = np.random.uniform(low=-4, high=4, size=(20, 2))\n",
    "X = np.r_[X_inliers, X_outliers]\n",
    "\n",
    "n_outliers = len(X_outliers)\n",
    "ground_truth = np.ones(len(X), dtype=int)\n",
    "ground_truth[-n_outliers:] = -1\n",
    "\n",
    "# fit the model for outlier detection (default)\n",
    "clf = LocalOutlierFactor(n_neighbors=20, contamination=0.1)\n",
    "    # use fit_predict to compute the predicted labels of the training samples\n",
    "    # (when LOF is used for outlier detection, the estimator has no predict,\n",
    "    # decision_function and score_samples methods).\n",
    "y_pred = clf.fit_predict(X)\n",
    "n_errors = (y_pred != ground_truth).sum()\n",
    "X_scores = clf.negative_outlier_factor_\n",
    "\n",
    "plt.figure(1, figsize=(14,14))\n",
    "plt.suptitle('SKLEARN Example', fontsize=16)\n",
    "plt.title(\"Local Outlier Factor (LOF)\")\n",
    "plt.scatter(X[:, 0], X[:, 1], color='k', s=3., label='Data points')\n",
    "# plot circles with radius proportional to the outlier scores\n",
    "radius = (X_scores.max() - X_scores) / (X_scores.max() - X_scores.min())\n",
    "plt.scatter(X[:, 0], X[:, 1], s=1000 * radius, edgecolors='r',\n",
    "            facecolors='none', label='Outlier scores')\n",
    "plt.axis('tight')\n",
    "plt.xlim((-5, 5))\n",
    "plt.ylim((-5, 5))\n",
    "plt.xlabel(\"prediction errors: %d\" % (n_errors))\n",
    "legend = plt.legend(loc='upper left')\n",
    "legend.legendHandles[0]._sizes = [10]\n",
    "legend.legendHandles[1]._sizes = [20]\n",
    "plt.show()"
   ]
  },
  {
   "cell_type": "code",
   "execution_count": null,
   "metadata": {
    "slideshow": {
     "slide_type": "slide"
    }
   },
   "outputs": [],
   "source": [
    "# set k-parameter\n",
    "knn = 20\n",
    "\n",
    "# contamination is supposedly 'proportion of outliers'\n",
    "# therefore, using outprop variable from data generation cell\n",
    "myclf = LocalOutlierFactor(n_neighbors=knn, contamination=outprop)\n",
    "\n",
    "# perform the LOF function with fit_predict, return results w/ negative_outlier_factor\n",
    "preds = myclf.fit_predict(RandArray)\n",
    "myScores = myclf.negative_outlier_factor_\n",
    "\n",
    "plt.figure(1, figsize=(14,14))\n",
    "plt.suptitle('My Generated Data', fontsize=16)\n",
    "plt.title(\"Local Outlier Factor (LOF)\")\n",
    "\n",
    "plt.scatter(xlist, ylist, color='k', s=3., label='Data points')\n",
    "\n",
    "# plot circles with radius proportional to the outlier scores\n",
    "radius = (myScores.max() - myScores) / (myScores.max() - myScores.min())\n",
    "plt.scatter(xlist, ylist, s=1000 * radius, edgecolors='b',\n",
    "            facecolors='none', label='Outlier scores')\n",
    "\n",
    "# plot the outliers with a separate marker\n",
    "plt.scatter(xoutlist, youtlist, color='r', marker='x', s=100)\n",
    "plt.axis('tight')\n",
    "\n",
    "# set axis lims to max x and y values\n",
    "xmax = max(np.max(np.abs(xlist)))\n",
    "ymax = max(np.max(np.abs(ylist)))\n",
    "plt.xlim((-xmax, xmax))\n",
    "plt.ylim((-ymax, ymax))\n",
    "\n",
    "# plt.xlabel(\"prediction errors: %d\" % (n_errors))\n",
    "legend = plt.legend(loc='upper left')\n",
    "legend.legendHandles[0]._sizes = [10]\n",
    "legend.legendHandles[1]._sizes = [20]\n",
    "plt.show()"
   ]
  },
  {
   "cell_type": "markdown",
   "metadata": {},
   "source": [
    "# Implementing/learning LOF in python\n",
    "\n",
    "So whilst the sklearn method is nice and efficient, to learn the process and LOF as well as some python I'm going to try and implement the general algorithm as best I know how.\n",
    "\n",
    "## Distance Calculation"
   ]
  },
  {
   "cell_type": "code",
   "execution_count": null,
   "metadata": {},
   "outputs": [],
   "source": [
    "# checking Manhattan distance works\n",
    "di = distance.cityblock(RandArray[0], RandArray[1])\n",
    "print(\"Instance 1: \" + str(RandArray[0]), \"\\nInstance 2: \" + str(RandArray[1]), \"\\nDistance: \" + str(di))"
   ]
  },
  {
   "cell_type": "code",
   "execution_count": null,
   "metadata": {},
   "outputs": [],
   "source": [
    "# it did, so may as well make a distance check function\n",
    "def distcheck(first, second):\n",
    "    dis = distance.cityblock(RandArray[first], RandArray[second])\n",
    "    print(\"Instance 1: \" + str(RandArray[first]), \"\\nInstance 2: \" + str(RandArray[second]), \"\\nDistance: \" + str(dis))"
   ]
  },
  {
   "cell_type": "code",
   "execution_count": null,
   "metadata": {},
   "outputs": [],
   "source": [
    "distcheck(0,3)"
   ]
  },
  {
   "cell_type": "code",
   "execution_count": null,
   "metadata": {},
   "outputs": [],
   "source": [
    "# assign length of array variable and init empty distances list\n",
    "length = len(RandArray)\n",
    "distances=[]\n",
    "\n",
    "# use count=0 for recording data indices\n",
    "count=0\n",
    "for data in RandArray:            # for each data point in RandArray\n",
    "    for i in range(0,length):     # for as many times as there are data points\n",
    "        dist=distance.cityblock(data, RandArray[i]) # calc the Man distance between the data point and RandArray[i]\n",
    "        if dist !=0:              # eliminate distance-to-self instances\n",
    "            distances.append((count, i, dist)) # returns indices of both data points and distance\n",
    "    count+=1\n",
    "\n",
    "distances"
   ]
  },
  {
   "cell_type": "markdown",
   "metadata": {},
   "source": [
    "### kth Nearest Neighbour Distance Calculation"
   ]
  },
  {
   "cell_type": "code",
   "execution_count": null,
   "metadata": {},
   "outputs": [],
   "source": []
  },
  {
   "cell_type": "markdown",
   "metadata": {},
   "source": [
    "### k Nearest Neighbour Calculation"
   ]
  },
  {
   "cell_type": "code",
   "execution_count": null,
   "metadata": {},
   "outputs": [],
   "source": []
  },
  {
   "cell_type": "markdown",
   "metadata": {},
   "source": [
    "### Local Reachability Density Calculation"
   ]
  },
  {
   "cell_type": "code",
   "execution_count": null,
   "metadata": {},
   "outputs": [],
   "source": []
  },
  {
   "cell_type": "markdown",
   "metadata": {},
   "source": [
    "### Local Outlier Factor Calculation"
   ]
  },
  {
   "cell_type": "code",
   "execution_count": null,
   "metadata": {},
   "outputs": [],
   "source": []
  },
  {
   "cell_type": "markdown",
   "metadata": {},
   "source": [
    "Playing with datasets from an outlier detetion methods eval paper\n",
    "\n",
    "http://www.dbs.ifi.lmu.de/research/outlier-evaluation/DAMI/#ref1"
   ]
  },
  {
   "cell_type": "code",
   "execution_count": null,
   "metadata": {},
   "outputs": [],
   "source": [
    "iondata = arff.loadarff('outlier_datasets/Ionosphere/Ionosphere_withoutdupl_norm.arff')"
   ]
  },
  {
   "cell_type": "code",
   "execution_count": null,
   "metadata": {},
   "outputs": [],
   "source": [
    "iondata"
   ]
  },
  {
   "cell_type": "code",
   "execution_count": null,
   "metadata": {},
   "outputs": [],
   "source": []
  }
 ],
 "metadata": {
  "celltoolbar": "Slideshow",
  "kernelspec": {
   "display_name": "Python 3",
   "language": "python",
   "name": "python3"
  },
  "language_info": {
   "codemirror_mode": {
    "name": "ipython",
    "version": 3
   },
   "file_extension": ".py",
   "mimetype": "text/x-python",
   "name": "python",
   "nbconvert_exporter": "python",
   "pygments_lexer": "ipython3",
   "version": "3.7.0"
  }
 },
 "nbformat": 4,
 "nbformat_minor": 2
}
